{
 "cells": [
  {
   "cell_type": "markdown",
   "metadata": {},
   "source": [
    "#Task Description 📄\n",
    "\n",
    "❄️ Create a program that perform below mentioned task upon recognizing a particular face.\n",
    "\n",
    "📌 When it recognize your face then -\n",
    "👉 It send mail to your mail id\n",
    "👉 Second it send whatsapp message to your friend, it can be anything.\n",
    "\n",
    "📌 When it recognize second face, it can be your friend or family members face.\n",
    "👉 It send mail to your mail id"
   ]
  },
  {
   "cell_type": "markdown",
   "metadata": {},
   "source": [
    "# Data_Collection"
   ]
  },
  {
   "cell_type": "code",
   "execution_count": 4,
   "metadata": {},
   "outputs": [],
   "source": [
    "import cv2\n",
    "model = cv2.CascadeClassifier('haarcascade_frontalface_default.xml')\n",
    "path = 'C:\\\\Users\\\\anand\\\\Documents\\\\Summer_training_ws\\\\task\\\\task_6\\\\faces\\\\abhi'\n",
    "cap = cv2.VideoCapture(0)"
   ]
  },
  {
   "cell_type": "code",
   "execution_count": 5,
   "metadata": {},
   "outputs": [
    {
     "name": "stderr",
     "output_type": "stream",
     "text": [
      "<>:4: SyntaxWarning: \"is\" with a literal. Did you mean \"==\"?\n",
      "<>:4: SyntaxWarning: \"is\" with a literal. Did you mean \"==\"?\n",
      "<ipython-input-5-6a9a82f65f1b>:4: SyntaxWarning: \"is\" with a literal. Did you mean \"==\"?\n",
      "  if face  is ():\n"
     ]
    }
   ],
   "source": [
    "def faceExtracter(photo):\n",
    "    face = model.detectMultiScale(photo,1.3,5)\n",
    "    try:\n",
    "        if face  is ():\n",
    "            return None\n",
    "           # print(len(face))\n",
    "        else:\n",
    "            for (x1,y1,w,h) in face:\n",
    "                #print(i)\n",
    "                \n",
    "                x2 = x1 + w #151\n",
    "                y2 = y1 + h #151\n",
    "                \n",
    "                #rectPhoto=cv2.rectangle(photo,(x1,y1),(x2,y2),(0,255,0),2)\n",
    "                \n",
    "                #print(rectPhoto.shape)\n",
    "        \n",
    "                cphoto= photo[y1:y2,x1:x2]\n",
    "                pic = cv2.resize(cphoto,(150,150))\n",
    "                \n",
    "                #when we frame always they detect gray clr.\n",
    "                face = cv2.cvtColor(pic, cv2.COLOR_BGR2GRAY)\n",
    "                return face\n",
    "                #aphoto = cv2.rectangle(face_final, (x1,y1),(x2,y2),[255,0,0],6)\n",
    "            \n",
    "    except:\n",
    "        print(\"No face found\")"
   ]
  },
  {
   "cell_type": "code",
   "execution_count": 6,
   "metadata": {},
   "outputs": [
    {
     "name": "stdout",
     "output_type": "stream",
     "text": [
      "data collected succesfully\n"
     ]
    }
   ],
   "source": [
    "count = 0\n",
    "while count<100:\n",
    "    \n",
    "    ret , photo = cap.read()\n",
    "    if faceExtracter(photo) is not None:\n",
    "        count += 1\n",
    "        face = faceExtracter(photo)\n",
    "        cv2.imshow(\"ni\", face)\n",
    "        cv2.waitKey(10) \n",
    "        file_name = path + str(count) + \".jpg\"\n",
    "        cv2.imwrite(file_name, face)\n",
    "    else:\n",
    "        pass\n",
    "    \n",
    "cv2.destroyAllWindows()\n",
    "print('data collected succesfully')"
   ]
  },
  {
   "cell_type": "markdown",
   "metadata": {},
   "source": [
    "# Model_Train"
   ]
  },
  {
   "cell_type": "code",
   "execution_count": 7,
   "metadata": {},
   "outputs": [
    {
     "name": "stdout",
     "output_type": "stream",
     "text": [
      "Model has been trained sucessfully...\n"
     ]
    }
   ],
   "source": [
    "import cv2\n",
    "import numpy as np\n",
    "from os import listdir\n",
    "from os.path import isfile,join\n",
    "path = 'C:\\\\Users\\\\anand\\\\Documents\\\\Summer_training_ws\\\\task\\\\task_6\\\\faces\\\\'\n",
    "traindata=[]\n",
    "#label alwys take int.\n",
    "label=[]\n",
    "for files in listdir(path):\n",
    "    imgfiles=files\n",
    "    #print(imgfiles)\n",
    "\n",
    "    \n",
    "    imgpath=path+imgfiles\n",
    "    #print(imgpath)\n",
    "    grayimg=cv2.imread(imgpath,cv2.IMREAD_GRAYSCALE)\n",
    "    traindata.append(grayimg)\n",
    "    label.append(1)\n",
    "face_rec=cv2.face_LBPHFaceRecognizer.create() #algo LBPH for face recog. \n",
    "#first blank then put data and make trained our model\n",
    "face_rec.train(np.asarray(traindata),np.asarray(label)) #asarray work alwys on numpy we convert label & train into numpy\n",
    "print(\"Model has been trained sucessfully...\")\n",
    "    "
   ]
  },
  {
   "cell_type": "markdown",
   "metadata": {},
   "source": [
    "# Mail_Function"
   ]
  },
  {
   "cell_type": "code",
   "execution_count": 8,
   "metadata": {},
   "outputs": [],
   "source": [
    "import smtplib as s\n",
    "def mail():\n",
    "    server = s.SMTP('smtp.gmail.com', 587)\n",
    "    server.starttls()\n",
    "    sender_mail = 'asfsdhsgfjf@gmail.com'\n",
    "    sender_passwd = '************'\n",
    "    server.login(sender_mail, sender_passwd )\n",
    "    receiver_mail = 'asdfsagfh@gmail.com'\n",
    "    body_msg = \"Alert, any other user come in your workspace...!!\"\n",
    "    server.sendmail(sender_mail,\n",
    "                receiver_mail, body_msg)\n",
    "    print(\"Sending Mail Please wait......\")\n",
    "    print(\"Email has been sent to receiver_mail id\")"
   ]
  },
  {
   "cell_type": "markdown",
   "metadata": {},
   "source": [
    "# WhatsApp_Msg"
   ]
  },
  {
   "cell_type": "code",
   "execution_count": 23,
   "metadata": {},
   "outputs": [],
   "source": [
    "import pywhatkit\n",
    "from datetime import datetime\n",
    "def whatsapp():\n",
    "    number = '+91111111111'\n",
    "    msg ='AutoGenerataed message'\n",
    "    now = datetime.now()           # Get current time\n",
    "    hr = int(now.strftime(\"%H\"))   # Current Hour\n",
    "    min = int( now.strftime(\"%M\"))\n",
    "    pywhatkit.sendwhatmsg(number,\"Hey Abhishek, welcome to your work-space\", hr,min+1 ,wait_time=10)"
   ]
  },
  {
   "cell_type": "markdown",
   "metadata": {},
   "source": [
    "# Function for Face_Detection"
   ]
  },
  {
   "cell_type": "code",
   "execution_count": 24,
   "metadata": {},
   "outputs": [],
   "source": [
    "import cv2\n",
    "import numpy as np\n",
    "model = cv2.CascadeClassifier('haarcascade_frontalface_default.xml')\n",
    "cap=cv2.VideoCapture(0)\n",
    "abhishekFace=0 \n",
    "Anon=0"
   ]
  },
  {
   "cell_type": "code",
   "execution_count": 25,
   "metadata": {},
   "outputs": [
    {
     "name": "stderr",
     "output_type": "stream",
     "text": [
      "<>:4: SyntaxWarning: \"is\" with a literal. Did you mean \"==\"?\n",
      "<>:4: SyntaxWarning: \"is\" with a literal. Did you mean \"==\"?\n",
      "<ipython-input-25-66ead7c64b57>:4: SyntaxWarning: \"is\" with a literal. Did you mean \"==\"?\n",
      "  if face  is ():\n"
     ]
    }
   ],
   "source": [
    "def facedetector(photo):\n",
    "    face = model.detectMultiScale(photo, 1.3,5)\n",
    "    try:\n",
    "        if face  is ():\n",
    "            return [],photo\n",
    "           # print(len(face))\n",
    "        else:\n",
    "            for (x1,y1,w,h) in face:\n",
    "                #print(i)\n",
    "                \n",
    "                x2 = x1 + w #151\n",
    "                y2 = y1 + h #151\n",
    "                \n",
    "                rectPhoto=cv2.rectangle(photo,(x1,y1),(x2,y2),(0,255,0),2)\n",
    "                \n",
    "                #print(rectPhoto.shape)\n",
    "        \n",
    "                cphoto= photo[y1:y2,x1:x2]\n",
    "                pic = cv2.resize(cphoto,(100,100))\n",
    "                \n",
    "                \n",
    "                face = cv2.cvtColor(pic, cv2.COLOR_BGR2GRAY)\n",
    "                return face,rectPhoto\n",
    "                #aphoto = cv2.rectangle(face_final, (x1,y1),(x2,y2),[255,0,0],6)\n",
    "            \n",
    "    except:\n",
    "        print(\"No face found\")"
   ]
  },
  {
   "cell_type": "markdown",
   "metadata": {},
   "source": [
    "# AWS_Instance"
   ]
  },
  {
   "cell_type": "code",
   "execution_count": 26,
   "metadata": {},
   "outputs": [],
   "source": [
    "import os\n",
    "def AWS_launch():\n",
    "    os.system(\"aws ec2 run-instances --image-id ami-0ad704c126371a549  --instance-type t2.micro --count 1 --subnet-id subnet-ac0801c4  --security-group-ids sg-ae4090c9 --key-name Abhishek090\")\n",
    "    os.system(\"aws ec2 create-volume --availability-zone ap-south-1a --size 5\")\n",
    "    os.system(\"aws ec2 attach-volume --volume-id vol-0b2f148e8c47eac96 --instance-id i-009b0f29df0217e3f --device xvdh\")"
   ]
  },
  {
   "cell_type": "code",
   "execution_count": 27,
   "metadata": {
    "scrolled": true
   },
   "outputs": [
    {
     "name": "stdout",
     "output_type": "stream",
     "text": [
      "Please wait , we are sending Whatsapp msg...!!\n",
      "In 50 seconds web.whatsapp.com will open and after 10 seconds message will be delivered\n"
     ]
    }
   ],
   "source": [
    "def run():\n",
    "    if abhishekFace == 50:\n",
    "        whatsapp()\n",
    "      \n",
    "    else:\n",
    "        mail()\n",
    "cap = cv2.VideoCapture(0)\n",
    "while True:\n",
    "    ret,photo2=cap.read()\n",
    "    img1,img2 = facedetector(photo2)\n",
    "    \n",
    "    try:\n",
    "        output=face_rec.predict(img1)\n",
    "        confidence = int(100*(1-output[1]/400))\n",
    "        displayString=str(confidence)+ \"% valid user\"\n",
    "        #img2 = model.detectMultiScale(photo2)\n",
    "    \n",
    "        cv2.putText(img2, displayString, (100, 120), cv2.FONT_HERSHEY_COMPLEX, 1, (255,120,150), 2)\n",
    "        \n",
    "        if confidence >= 80:\n",
    "            cv2.putText(img2, \"Hii Abhishek..!!\", (250, 450), cv2.FONT_HERSHEY_COMPLEX, 1, (0,255,0), 2)\n",
    "            cv2.imshow('Face Recognition', img2 )\n",
    "            abhishekFace += 1\n",
    "            \n",
    "        #elif confidence < 90:\n",
    "        else:\n",
    "            cv2.putText(img2, \"Anonymous face\", (250, 450), cv2.FONT_HERSHEY_COMPLEX, 1, (0,0,255), 2)\n",
    "            cv2.imshow('Face Recognition', img2 )\n",
    "            Anon += 1\n",
    "            \n",
    "        if abhishekFace == 50:\n",
    "            print(\"Please wait , we are sending Whatsapp msg...!!\")\n",
    "            #whatsapp()\n",
    "            break\n",
    "            \n",
    "        elif Anon == 120:\n",
    "            print(\"Alert, anonymous user found...!!\" ,\"okay\")\n",
    "            #mail()\n",
    "            break\n",
    "    except:\n",
    "        cv2.putText(img2, \"No Face Found\", (220, 120) , cv2.FONT_HERSHEY_COMPLEX, 1, (0,0,255), 2)\n",
    "        cv2.putText(img2, \"looking for face\", (250, 450), cv2.FONT_HERSHEY_COMPLEX, 1, (0,0,255), 2)\n",
    "        cv2.imshow('Face Recognition', img2 )\n",
    "        pass\n",
    "\n",
    "    if cv2.waitKey(1) == 13: #13 is the Enter Key\n",
    "        break\n",
    "        \n",
    "\n",
    "cv2.destroyAllWindows()\n",
    "run()\n",
    "        \n",
    "cap.release()"
   ]
  },
  {
   "cell_type": "code",
   "execution_count": null,
   "metadata": {},
   "outputs": [],
   "source": []
  },
  {
   "cell_type": "code",
   "execution_count": null,
   "metadata": {},
   "outputs": [],
   "source": []
  }
 ],
 "metadata": {
  "kernelspec": {
   "display_name": "Python 3",
   "language": "python",
   "name": "python3"
  },
  "language_info": {
   "codemirror_mode": {
    "name": "ipython",
    "version": 3
   },
   "file_extension": ".py",
   "mimetype": "text/x-python",
   "name": "python",
   "nbconvert_exporter": "python",
   "pygments_lexer": "ipython3",
   "version": "3.8.3"
  }
 },
 "nbformat": 4,
 "nbformat_minor": 5
}
